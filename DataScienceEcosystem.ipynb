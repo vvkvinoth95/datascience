{
 "cells": [
  {
   "cell_type": "markdown",
   "id": "322656af-680e-440f-b044-8907ea51296b",
   "metadata": {},
   "source": [
    "# Data Science Tools and Ecosystem"
   ]
  },
  {
   "cell_type": "markdown",
   "id": "79240ce5-c994-49a6-9898-2d8b2948bc00",
   "metadata": {},
   "source": [
    "In this notebook, Data Science Tools and Ecosystem are summarized."
   ]
  },
  {
   "cell_type": "markdown",
   "id": "00bd3af1-6803-4a5d-bf67-806b85bb2ff6",
   "metadata": {},
   "source": [
    "Some of the popular languages that Data Scientists use are:\n",
    "* Python\n",
    "* R\n",
    "* SQL\n",
    "* Scale"
   ]
  },
  {
   "cell_type": "markdown",
   "id": "6844bc6c-5f4a-400f-a276-c00f142953cc",
   "metadata": {},
   "source": [
    "Some of the commonly used libraries used by Data Scientists include:\n",
    "* pandas\n",
    "* numpy\n",
    "* scikit learn\n",
    "* matplotlib"
   ]
  },
  {
   "cell_type": "markdown",
   "id": "f96c1cda-dd2d-4804-a754-e98c87aa8b72",
   "metadata": {},
   "source": [
    "|Data Science Tools|\n",
    "|-------|\n",
    "|Apache Spark|\n",
    "|Rstudio|\n",
    "|Hadoop|"
   ]
  },
  {
   "cell_type": "markdown",
   "id": "49b1f57f-810d-43d7-93f2-77874663a57c",
   "metadata": {},
   "source": [
    "### Below are a few examples of evaluating arithmetic expressions in Python"
   ]
  },
  {
   "cell_type": "code",
   "execution_count": 7,
   "id": "b3980400-b9e1-4eb9-980f-dba2fa0083e9",
   "metadata": {},
   "outputs": [
    {
     "data": {
      "text/plain": [
       "17"
      ]
     },
     "execution_count": 7,
     "metadata": {},
     "output_type": "execute_result"
    }
   ],
   "source": [
    "(3*4)+5"
   ]
  },
  {
   "cell_type": "code",
   "execution_count": 15,
   "id": "78abbf04-724f-40f7-b11e-1b6e9f35447a",
   "metadata": {},
   "outputs": [
    {
     "name": "stdout",
     "output_type": "stream",
     "text": [
      "hours= 33.333333333333336\n"
     ]
    }
   ],
   "source": [
    "#\n",
    "print (\"hours=\",200/6)"
   ]
  },
  {
   "cell_type": "markdown",
   "id": "ce29a18d-c04b-455d-9134-6a035c4e1dbe",
   "metadata": {},
   "source": [
    "**Objectives**\n",
    "* List the popular languages for data science\n",
    "* List of popular tools for data science\n",
    "* perform the arithmatic opearations\n"
   ]
  },
  {
   "cell_type": "code",
   "execution_count": null,
   "id": "9b0acdf4-0ca1-485f-b5e1-3cc3ad534f07",
   "metadata": {},
   "outputs": [],
   "source": [
    "## Au"
   ]
  }
 ],
 "metadata": {
  "kernelspec": {
   "display_name": "Python 3 (ipykernel)",
   "language": "python",
   "name": "python3"
  },
  "language_info": {
   "codemirror_mode": {
    "name": "ipython",
    "version": 3
   },
   "file_extension": ".py",
   "mimetype": "text/x-python",
   "name": "python",
   "nbconvert_exporter": "python",
   "pygments_lexer": "ipython3",
   "version": "3.13.1"
  }
 },
 "nbformat": 4,
 "nbformat_minor": 5
}
